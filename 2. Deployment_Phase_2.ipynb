{
 "cells": [
  {
   "cell_type": "code",
   "execution_count": 2,
   "id": "d64c5b70",
   "metadata": {},
   "outputs": [
    {
     "name": "stdout",
     "output_type": "stream",
     "text": [
      "R&D:1000\n",
      "Admin2000\n",
      "Marketing 3000\n",
      "State_flo 0 or 1:0\n",
      "State_new 0 or 1:1\n"
     ]
    },
    {
     "name": "stderr",
     "output_type": "stream",
     "text": [
      "C:\\Users\\my pc\\anaconda3\\Lib\\site-packages\\sklearn\\base.py:464: UserWarning: X does not have valid feature names, but LinearRegression was fitted with feature names\n",
      "  warnings.warn(\n"
     ]
    },
    {
     "data": {
      "text/plain": [
       "array([[39806.18229812]])"
      ]
     },
     "execution_count": 2,
     "metadata": {},
     "output_type": "execute_result"
    }
   ],
   "source": [
    "import pickle\n",
    "model=pickle.load(open('mulline_final.sav',\"rb\"))\n",
    "rd_input=float(input(\"R&D:\"))\n",
    "admin_input=float(input(\"Admin\"))\n",
    "mark_input=float(input(\"Marketing \"))\n",
    "fol_input=int(input(\"State_flo 0 or 1:\"))\n",
    "new_input=int(input(\"State_new 0 or 1:\"))\n",
    "result=model.predict([[rd_input,admin_input,mark_input,fol_input,new_input]])\n",
    "result"
   ]
  },
  {
   "cell_type": "code",
   "execution_count": null,
   "id": "b427e202",
   "metadata": {},
   "outputs": [],
   "source": []
  }
 ],
 "metadata": {
  "kernelspec": {
   "display_name": "Python 3 (ipykernel)",
   "language": "python",
   "name": "python3"
  },
  "language_info": {
   "codemirror_mode": {
    "name": "ipython",
    "version": 3
   },
   "file_extension": ".py",
   "mimetype": "text/x-python",
   "name": "python",
   "nbconvert_exporter": "python",
   "pygments_lexer": "ipython3",
   "version": "3.11.5"
  }
 },
 "nbformat": 4,
 "nbformat_minor": 5
}
